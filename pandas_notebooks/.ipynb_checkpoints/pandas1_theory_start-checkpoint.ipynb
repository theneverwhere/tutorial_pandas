{
 "cells": [
  {
   "cell_type": "markdown",
   "id": "c11df023",
   "metadata": {},
   "source": [
    "# Основы Pandas!"
   ]
  },
  {
   "cell_type": "markdown",
   "id": "ee447922",
   "metadata": {},
   "source": [
    "- работа с табличными данными"
   ]
  },
  {
   "cell_type": "code",
   "execution_count": 2,
   "id": "c8318127",
   "metadata": {},
   "outputs": [],
   "source": [
    "import pandas as pd"
   ]
  },
  {
   "cell_type": "code",
   "execution_count": 3,
   "id": "a1a26a44",
   "metadata": {},
   "outputs": [],
   "source": [
    "import numpy as np"
   ]
  },
  {
   "cell_type": "markdown",
   "id": "d8339787",
   "metadata": {},
   "source": [
    "## Структуры данных Series и DataFrame"
   ]
  },
  {
   "cell_type": "markdown",
   "id": "e1b65d7f",
   "metadata": {},
   "source": [
    "### Series"
   ]
  },
  {
   "cell_type": "code",
   "execution_count": 4,
   "id": "056d43f8",
   "metadata": {
    "scrolled": true
   },
   "outputs": [
    {
     "name": "stdout",
     "output_type": "stream",
     "text": [
      "0    14\n",
      "1    18\n",
      "2    20\n",
      "3    33\n",
      "4    38\n",
      "dtype: int64\n"
     ]
    },
    {
     "data": {
      "text/plain": [
       "1    18\n",
       "2    20\n",
       "3    33\n",
       "dtype: int64"
      ]
     },
     "execution_count": 4,
     "metadata": {},
     "output_type": "execute_result"
    }
   ],
   "source": [
    "series1 = pd.Series([14,18,20,33,38]) # создание series на основе списка\n",
    "print(series1)\n",
    "series1[1:4]"
   ]
  },
  {
   "cell_type": "code",
   "execution_count": 8,
   "id": "ef08442d",
   "metadata": {},
   "outputs": [
    {
     "data": {
      "text/plain": [
       "<PandasArray>\n",
       "[14, 18, 20, 33, 38]\n",
       "Length: 5, dtype: int64"
      ]
     },
     "execution_count": 8,
     "metadata": {},
     "output_type": "execute_result"
    }
   ],
   "source": [
    "a = series1.array   # обёртывание массива numpy \n",
    "a"
   ]
  },
  {
   "cell_type": "code",
   "execution_count": 9,
   "id": "59ee5ee4",
   "metadata": {},
   "outputs": [
    {
     "data": {
      "text/plain": [
       "<IntegerArray>\n",
       "[1, 2, 3, 4, 5]\n",
       "Length: 5, dtype: Int32"
      ]
     },
     "execution_count": 9,
     "metadata": {},
     "output_type": "execute_result"
    }
   ],
   "source": [
    "arr1 = np.array([1,2,3,4,5])   # взаимодействие с ndarray\n",
    "x = pd.array(arr1) \n",
    "x"
   ]
  },
  {
   "cell_type": "markdown",
   "id": "24144359",
   "metadata": {},
   "source": [
    "- values\n",
    "- index "
   ]
  },
  {
   "cell_type": "code",
   "execution_count": 10,
   "id": "0e3dcab3",
   "metadata": {},
   "outputs": [
    {
     "data": {
      "text/plain": [
       "array([14, 18, 20, 33, 38], dtype=int64)"
      ]
     },
     "execution_count": 10,
     "metadata": {},
     "output_type": "execute_result"
    }
   ],
   "source": [
    "series1.values   # представление значений series"
   ]
  },
  {
   "cell_type": "code",
   "execution_count": 11,
   "id": "ed1c0448",
   "metadata": {},
   "outputs": [
    {
     "data": {
      "text/plain": [
       "RangeIndex(start=0, stop=5, step=1)"
      ]
     },
     "execution_count": 11,
     "metadata": {},
     "output_type": "execute_result"
    }
   ],
   "source": [
    "series1.index  # представление индексов"
   ]
  },
  {
   "cell_type": "code",
   "execution_count": 13,
   "id": "403cd675",
   "metadata": {},
   "outputs": [
    {
     "data": {
      "text/plain": [
       "1          72\n",
       "alex       86\n",
       "(1, 2)    138\n",
       "i         140\n",
       "o         120\n",
       "dtype: int64"
      ]
     },
     "execution_count": 13,
     "metadata": {},
     "output_type": "execute_result"
    }
   ],
   "source": [
    "series2 = pd.Series([72,86,138,140,120], index=[1,'alex',(1,2),'i','o'])  # создание series с заведомо прописанными индексами\n",
    "series2"
   ]
  },
  {
   "cell_type": "code",
   "execution_count": 14,
   "id": "44a7f12c",
   "metadata": {},
   "outputs": [
    {
     "data": {
      "text/plain": [
       "alex      162\n",
       "slavik    184\n",
       "ivan      183\n",
       "kpss      187\n",
       "oxxxy     179\n",
       "dtype: int64"
      ]
     },
     "execution_count": 14,
     "metadata": {},
     "output_type": "execute_result"
    }
   ],
   "source": [
    "dict1 = {'alex':162, 'slavik':184, 'ivan':183, 'kpss':187, 'oxxxy':179}\n",
    "\n",
    "series3 = pd.Series(dict1)  # создание series на основе словаря\n",
    "series3"
   ]
  },
  {
   "cell_type": "code",
   "execution_count": 15,
   "id": "2e429ead",
   "metadata": {
    "scrolled": true
   },
   "outputs": [
    {
     "data": {
      "text/plain": [
       "slavik    184\n",
       "ivan      183\n",
       "oxxxy     179\n",
       "kpss      187\n",
       "alex      162\n",
       "dtype: int64"
      ]
     },
     "execution_count": 15,
     "metadata": {},
     "output_type": "execute_result"
    }
   ],
   "source": [
    "names = ['slavik', 'ivan', 'oxxxy','kpss','alex'] # создание series с измененным порядком индексов (NaN - значение не найдено) \n",
    "pd.Series(dict1, index=names)"
   ]
  },
  {
   "cell_type": "code",
   "execution_count": 16,
   "id": "771d23e3",
   "metadata": {},
   "outputs": [
    {
     "data": {
      "text/plain": [
       "1          72\n",
       "alex       86\n",
       "(1, 2)    138\n",
       "i         140\n",
       "o         120\n",
       "dtype: int64"
      ]
     },
     "execution_count": 16,
     "metadata": {},
     "output_type": "execute_result"
    }
   ],
   "source": [
    "series2"
   ]
  },
  {
   "cell_type": "code",
   "execution_count": 18,
   "id": "9718ed85",
   "metadata": {
    "scrolled": true
   },
   "outputs": [
    {
     "data": {
      "text/plain": [
       "i       140\n",
       "alex     86\n",
       "1        72\n",
       "dtype: int64"
      ]
     },
     "execution_count": 18,
     "metadata": {},
     "output_type": "execute_result"
    }
   ],
   "source": [
    "pd.Series(series2,index=['i','alex',1])  # на основе series"
   ]
  },
  {
   "cell_type": "code",
   "execution_count": 19,
   "id": "0db442a4",
   "metadata": {},
   "outputs": [
    {
     "data": {
      "text/plain": [
       "0    14\n",
       "1    18\n",
       "2    20\n",
       "3    33\n",
       "4    38\n",
       "dtype: int64"
      ]
     },
     "execution_count": 19,
     "metadata": {},
     "output_type": "execute_result"
    }
   ],
   "source": [
    "series1"
   ]
  },
  {
   "cell_type": "code",
   "execution_count": 21,
   "id": "8643650d",
   "metadata": {},
   "outputs": [
    {
     "data": {
      "text/plain": [
       "alex      14\n",
       "slavik    18\n",
       "ivan      20\n",
       "kpss      33\n",
       "oxxxy     38\n",
       "dtype: int64"
      ]
     },
     "execution_count": 21,
     "metadata": {},
     "output_type": "execute_result"
    }
   ],
   "source": [
    "series1.index = ['alex','slavik','ivan','kpss','oxxxy']  # изменение индексов\n",
    "series1"
   ]
  },
  {
   "cell_type": "code",
   "execution_count": 22,
   "id": "eae28fdc",
   "metadata": {},
   "outputs": [
    {
     "data": {
      "text/plain": [
       "Index(['kpss', 'oxxxy'], dtype='object')"
      ]
     },
     "execution_count": 22,
     "metadata": {},
     "output_type": "execute_result"
    }
   ],
   "source": [
    "series1.index[-2:]"
   ]
  },
  {
   "cell_type": "code",
   "execution_count": 23,
   "id": "413bfcbe",
   "metadata": {},
   "outputs": [],
   "source": [
    "info = [series1,series2,series3]   # преобразование одинаковых индексов для данных с помощью цикла\n",
    "for inf in info:\n",
    "    inf.index = names"
   ]
  },
  {
   "cell_type": "code",
   "execution_count": 24,
   "id": "98042cc6",
   "metadata": {},
   "outputs": [
    {
     "name": "stdout",
     "output_type": "stream",
     "text": [
      "slavik    14\n",
      "ivan      18\n",
      "oxxxy     20\n",
      "kpss      33\n",
      "alex      38\n",
      "dtype: int64\n",
      "\n",
      "slavik     72\n",
      "ivan       86\n",
      "oxxxy     138\n",
      "kpss      140\n",
      "alex      120\n",
      "dtype: int64\n",
      "\n",
      "slavik    162\n",
      "ivan      184\n",
      "oxxxy     183\n",
      "kpss      187\n",
      "alex      179\n",
      "dtype: int64\n"
     ]
    }
   ],
   "source": [
    "print(series1,series2,series3,sep='\\n\\n')"
   ]
  },
  {
   "cell_type": "code",
   "execution_count": 26,
   "id": "82ed7e22",
   "metadata": {},
   "outputs": [
    {
     "data": {
      "text/plain": [
       "slavik    14\n",
       "ivan      18\n",
       "oxxxy     20\n",
       "kpss      33\n",
       "alex      38\n",
       "Name: age, dtype: int64"
      ]
     },
     "execution_count": 26,
     "metadata": {},
     "output_type": "execute_result"
    }
   ],
   "source": [
    "# название series\n",
    "\n",
    "series1.name = 'age'\n",
    "series2.name = 'iq'\n",
    "series3.name = 'high'\n",
    "\n",
    "series1"
   ]
  },
  {
   "cell_type": "code",
   "execution_count": 27,
   "id": "c6f4f7e5",
   "metadata": {},
   "outputs": [
    {
     "name": "stdout",
     "output_type": "stream",
     "text": [
      "name\n",
      "slavik    14\n",
      "ivan      18\n",
      "oxxxy     20\n",
      "kpss      33\n",
      "alex      38\n",
      "Name: age, dtype: int64\n",
      "\n",
      "name\n",
      "slavik     72\n",
      "ivan       86\n",
      "oxxxy     138\n",
      "kpss      140\n",
      "alex      120\n",
      "Name: iq, dtype: int64\n",
      "\n",
      "name\n",
      "slavik    162\n",
      "ivan      184\n",
      "oxxxy     183\n",
      "kpss      187\n",
      "alex      179\n",
      "Name: high, dtype: int64\n"
     ]
    }
   ],
   "source": [
    "# установить названия индексов в series\n",
    "for inf in info:\n",
    "    inf.index.name = 'name'\n",
    "print(series1,series2,series3,sep='\\n\\n')"
   ]
  },
  {
   "cell_type": "code",
   "execution_count": 28,
   "id": "7c64d94d",
   "metadata": {},
   "outputs": [
    {
     "data": {
      "text/plain": [
       "slavik       72.0\n",
       "ivan         86.0\n",
       "oxxxy       138.0\n",
       "kpss        140.0\n",
       "alex        120.0\n",
       "einstein      NaN\n",
       "Name: iq, dtype: float64"
      ]
     },
     "execution_count": 28,
     "metadata": {},
     "output_type": "execute_result"
    }
   ],
   "source": [
    "series2 = pd.Series(series2, index=[*names,'einstein'])  # добавим индекс, которого нет (его значение - NaN)\n",
    "series2"
   ]
  },
  {
   "cell_type": "markdown",
   "id": "ec0d75cd",
   "metadata": {},
   "source": [
    "- NaN"
   ]
  },
  {
   "cell_type": "code",
   "execution_count": 29,
   "id": "f112f6e4",
   "metadata": {},
   "outputs": [
    {
     "data": {
      "text/plain": [
       "slavik      False\n",
       "ivan        False\n",
       "oxxxy       False\n",
       "kpss        False\n",
       "alex        False\n",
       "einstein     True\n",
       "Name: iq, dtype: bool"
      ]
     },
     "execution_count": 29,
     "metadata": {},
     "output_type": "execute_result"
    }
   ],
   "source": [
    "series2.isna()  # метод экземляра, показывающий есть ли отсутствующие значение / notna()"
   ]
  },
  {
   "cell_type": "code",
   "execution_count": 30,
   "id": "c99e9b08",
   "metadata": {},
   "outputs": [
    {
     "data": {
      "text/plain": [
       "slavik       True\n",
       "ivan         True\n",
       "oxxxy        True\n",
       "kpss         True\n",
       "alex         True\n",
       "einstein    False\n",
       "Name: iq, dtype: bool"
      ]
     },
     "execution_count": 30,
     "metadata": {},
     "output_type": "execute_result"
    }
   ],
   "source": [
    "pd.notna(series2)  # то же самое, но функция показывает, является ли не NaN"
   ]
  },
  {
   "cell_type": "markdown",
   "id": "a138c3e8",
   "metadata": {},
   "source": [
    "- операции"
   ]
  },
  {
   "cell_type": "code",
   "execution_count": 31,
   "id": "be37dbf9",
   "metadata": {},
   "outputs": [
    {
     "data": {
      "text/plain": [
       "120.0"
      ]
     },
     "execution_count": 31,
     "metadata": {},
     "output_type": "execute_result"
    }
   ],
   "source": [
    "series2['alex'] # взять значение по индексу"
   ]
  },
  {
   "cell_type": "code",
   "execution_count": 32,
   "id": "af23a2d7",
   "metadata": {},
   "outputs": [
    {
     "data": {
      "text/plain": [
       "72.0"
      ]
     },
     "execution_count": 32,
     "metadata": {},
     "output_type": "execute_result"
    }
   ],
   "source": [
    "series2[0]  # нумерация с нуля всегда сохраняется"
   ]
  },
  {
   "cell_type": "code",
   "execution_count": 33,
   "id": "16e0c5c8",
   "metadata": {},
   "outputs": [
    {
     "data": {
      "text/plain": [
       "slavik       72.0\n",
       "ivan        132.0\n",
       "oxxxy       138.0\n",
       "kpss        140.0\n",
       "alex        120.0\n",
       "einstein      NaN\n",
       "Name: iq, dtype: float64"
      ]
     },
     "execution_count": 33,
     "metadata": {},
     "output_type": "execute_result"
    }
   ],
   "source": [
    "series2['ivan'] = 132  # изменить значение по индексу\n",
    "series2"
   ]
  },
  {
   "cell_type": "code",
   "execution_count": 36,
   "id": "cbf2931d",
   "metadata": {},
   "outputs": [
    {
     "data": {
      "text/plain": [
       "slavik      False\n",
       "ivan         True\n",
       "oxxxy        True\n",
       "kpss         True\n",
       "alex        False\n",
       "einstein    False\n",
       "Name: iq, dtype: bool"
      ]
     },
     "execution_count": 36,
     "metadata": {},
     "output_type": "execute_result"
    }
   ],
   "source": [
    "mask = series2>130\n",
    "mask  # возврат булевской маски series"
   ]
  },
  {
   "cell_type": "code",
   "execution_count": 39,
   "id": "37dd925e",
   "metadata": {},
   "outputs": [
    {
     "data": {
      "text/plain": [
       "ivan     132.0\n",
       "oxxxy    138.0\n",
       "kpss     140.0\n",
       "Name: iq, dtype: float64"
      ]
     },
     "execution_count": 39,
     "metadata": {},
     "output_type": "execute_result"
    }
   ],
   "source": [
    "series2[mask]   # применение фильрации по логической маске"
   ]
  },
  {
   "cell_type": "code",
   "execution_count": 40,
   "id": "07172a95",
   "metadata": {},
   "outputs": [
    {
     "data": {
      "text/plain": [
       "ivan     132.0\n",
       "oxxxy    138.0\n",
       "kpss     140.0\n",
       "Name: iq, dtype: float64"
      ]
     },
     "execution_count": 40,
     "metadata": {},
     "output_type": "execute_result"
    }
   ],
   "source": [
    "series2[series2>130]"
   ]
  },
  {
   "cell_type": "code",
   "execution_count": 43,
   "id": "5f42168a",
   "metadata": {},
   "outputs": [
    {
     "data": {
      "text/plain": [
       "name\n",
       "slavik    24\n",
       "ivan      28\n",
       "oxxxy     30\n",
       "kpss      43\n",
       "alex      48\n",
       "Name: age, dtype: int64"
      ]
     },
     "execution_count": 43,
     "metadata": {},
     "output_type": "execute_result"
    }
   ],
   "source": [
    "series1 + 10 # увеличение данных в series на 10"
   ]
  },
  {
   "cell_type": "code",
   "execution_count": 44,
   "id": "82a08b9c",
   "metadata": {},
   "outputs": [
    {
     "data": {
      "text/plain": [
       "name\n",
       "slavik     196\n",
       "ivan       324\n",
       "oxxxy      400\n",
       "kpss      1089\n",
       "alex      1444\n",
       "Name: age, dtype: int64"
      ]
     },
     "execution_count": 44,
     "metadata": {},
     "output_type": "execute_result"
    }
   ],
   "source": [
    "np.square(series1)  # применение функций нампай к данным series"
   ]
  },
  {
   "cell_type": "markdown",
   "id": "b71a53b8",
   "metadata": {},
   "source": [
    "- многие функции, ожидающие словарь работают и с Series"
   ]
  },
  {
   "cell_type": "code",
   "execution_count": 45,
   "id": "93a3d76a",
   "metadata": {},
   "outputs": [
    {
     "data": {
      "text/plain": [
       "True"
      ]
     },
     "execution_count": 45,
     "metadata": {},
     "output_type": "execute_result"
    }
   ],
   "source": [
    "'ivan' in series2  # проверка на вхождение "
   ]
  },
  {
   "cell_type": "code",
   "execution_count": 46,
   "id": "18e24d65",
   "metadata": {},
   "outputs": [],
   "source": [
    "series2['messi'] = 135  # добавление значений в series\n",
    "series3['messi'] = 169"
   ]
  },
  {
   "cell_type": "code",
   "execution_count": 47,
   "id": "05e101d5",
   "metadata": {},
   "outputs": [
    {
     "data": {
      "text/plain": [
       "array([ 72., 132., 138., 140., 120.,  nan, 135.])"
      ]
     },
     "execution_count": 47,
     "metadata": {},
     "output_type": "execute_result"
    }
   ],
   "source": [
    "series2.unique()   # массив уникальных значений Series"
   ]
  },
  {
   "cell_type": "code",
   "execution_count": 48,
   "id": "a51ccdd0",
   "metadata": {},
   "outputs": [
    {
     "data": {
      "text/plain": [
       "name\n",
       "slavik    False\n",
       "ivan      False\n",
       "oxxxy      True\n",
       "kpss      False\n",
       "alex      False\n",
       "Name: age, dtype: bool"
      ]
     },
     "execution_count": 48,
     "metadata": {},
     "output_type": "execute_result"
    }
   ],
   "source": [
    "series1.isin([20])   # есть ли указанные значения в списке (булевая маска) "
   ]
  },
  {
   "cell_type": "code",
   "execution_count": 49,
   "id": "fc2c5e63",
   "metadata": {},
   "outputs": [
    {
     "data": {
      "text/plain": [
       "slavik      False\n",
       "ivan        False\n",
       "oxxxy       False\n",
       "kpss        False\n",
       "alex        False\n",
       "einstein     True\n",
       "messi       False\n",
       "Name: iq, dtype: bool"
      ]
     },
     "execution_count": 49,
     "metadata": {},
     "output_type": "execute_result"
    }
   ],
   "source": [
    "series2.isnull()  # поиск отсутствующих значений"
   ]
  },
  {
   "cell_type": "code",
   "execution_count": 50,
   "id": "9f018502",
   "metadata": {},
   "outputs": [
    {
     "data": {
      "text/plain": [
       "72.0     1\n",
       "132.0    1\n",
       "138.0    1\n",
       "140.0    1\n",
       "120.0    1\n",
       "135.0    1\n",
       "Name: iq, dtype: int64"
      ]
     },
     "execution_count": 50,
     "metadata": {},
     "output_type": "execute_result"
    }
   ],
   "source": [
    "series2.value_counts()   # краткая статистика по количеству всех значений "
   ]
  },
  {
   "cell_type": "code",
   "execution_count": 52,
   "id": "e2f4d2b2",
   "metadata": {},
   "outputs": [
    {
     "name": "stdout",
     "output_type": "stream",
     "text": [
      "[1 2 3 4 5] <class 'numpy.ndarray'>\n"
     ]
    },
    {
     "data": {
      "text/plain": [
       "array([3, 4, 5])"
      ]
     },
     "execution_count": 52,
     "metadata": {},
     "output_type": "execute_result"
    }
   ],
   "source": [
    "print(arr1, type(arr1))\n",
    "\n",
    "arr1[arr1>2] # series очень похожи на массивы numpy"
   ]
  },
  {
   "cell_type": "code",
   "execution_count": 53,
   "id": "43be73a7",
   "metadata": {},
   "outputs": [
    {
     "data": {
      "text/plain": [
       "slavik     72.0\n",
       "ivan      132.0\n",
       "Name: iq, dtype: float64"
      ]
     },
     "execution_count": 53,
     "metadata": {},
     "output_type": "execute_result"
    }
   ],
   "source": [
    "series2[:2]   # срезы по series"
   ]
  },
  {
   "cell_type": "code",
   "execution_count": 54,
   "id": "72fdac67",
   "metadata": {},
   "outputs": [
    {
     "data": {
      "text/plain": [
       "a    10\n",
       "b    20\n",
       "c    30\n",
       "dtype: int64"
      ]
     },
     "execution_count": 54,
     "metadata": {},
     "output_type": "execute_result"
    }
   ],
   "source": [
    "pd.Series([10,20,30],['a','b','c'])  # можно создавать и так"
   ]
  },
  {
   "cell_type": "markdown",
   "id": "42992b41",
   "metadata": {},
   "source": [
    "### атрибуты Series\n",
    "- .values - массив элементов\n",
    "- .index - массив индексов в series\n",
    "- .size - количество значений\n",
    "- .is_unique - уникальные ли значения в series"
   ]
  },
  {
   "cell_type": "code",
   "execution_count": 57,
   "id": "d89163bd",
   "metadata": {},
   "outputs": [
    {
     "data": {
      "text/plain": [
       "slavik       72.0\n",
       "ivan        132.0\n",
       "oxxxy       138.0\n",
       "kpss        140.0\n",
       "alex        120.0\n",
       "einstein      NaN\n",
       "messi       135.0\n",
       "Name: iq, dtype: float64"
      ]
     },
     "execution_count": 57,
     "metadata": {},
     "output_type": "execute_result"
    }
   ],
   "source": [
    "series2"
   ]
  },
  {
   "cell_type": "code",
   "execution_count": 55,
   "id": "6b46e427",
   "metadata": {},
   "outputs": [
    {
     "data": {
      "text/plain": [
       "True"
      ]
     },
     "execution_count": 55,
     "metadata": {},
     "output_type": "execute_result"
    }
   ],
   "source": [
    "series2.is_unique"
   ]
  },
  {
   "cell_type": "code",
   "execution_count": 56,
   "id": "46155fa9",
   "metadata": {},
   "outputs": [
    {
     "data": {
      "text/plain": [
       "7"
      ]
     },
     "execution_count": 56,
     "metadata": {},
     "output_type": "execute_result"
    }
   ],
   "source": [
    "series2.size"
   ]
  },
  {
   "cell_type": "markdown",
   "id": "5db63110",
   "metadata": {},
   "source": [
    "### Методы (функции) Series\n",
    "- .sum() - сумма объектов Series\n",
    "- .max() / .min() \n",
    "- .product() - произведение элементов\n",
    "- .mean() - среднее значение\n",
    "- и тд"
   ]
  },
  {
   "cell_type": "code",
   "execution_count": 58,
   "id": "792fbb64",
   "metadata": {},
   "outputs": [
    {
     "data": {
      "text/plain": [
       "slavik     72.0\n",
       "ivan      132.0\n",
       "oxxxy     138.0\n",
       "Name: iq, dtype: float64"
      ]
     },
     "execution_count": 58,
     "metadata": {},
     "output_type": "execute_result"
    }
   ],
   "source": [
    "series2.head(3)  # первые n элементов сверху"
   ]
  },
  {
   "cell_type": "code",
   "execution_count": 59,
   "id": "96127d6d",
   "metadata": {},
   "outputs": [
    {
     "data": {
      "text/plain": [
       "einstein      NaN\n",
       "messi       135.0\n",
       "Name: iq, dtype: float64"
      ]
     },
     "execution_count": 59,
     "metadata": {},
     "output_type": "execute_result"
    }
   ],
   "source": [
    "series2.tail(2)# последние 2 элемента снизу"
   ]
  },
  {
   "cell_type": "code",
   "execution_count": 60,
   "id": "478743fb",
   "metadata": {},
   "outputs": [
    {
     "data": {
      "text/plain": [
       "ivan    132.0\n",
       "kpss    140.0\n",
       "Name: iq, dtype: float64"
      ]
     },
     "execution_count": 60,
     "metadata": {},
     "output_type": "execute_result"
    }
   ],
   "source": [
    "series2[[1,3]]"
   ]
  },
  {
   "cell_type": "code",
   "execution_count": 61,
   "id": "f111bc58",
   "metadata": {},
   "outputs": [
    {
     "data": {
      "text/plain": [
       "oxxxy    138.0\n",
       "kpss     140.0\n",
       "Name: iq, dtype: float64"
      ]
     },
     "execution_count": 61,
     "metadata": {},
     "output_type": "execute_result"
    }
   ],
   "source": [
    "series2.take([2,3])"
   ]
  },
  {
   "cell_type": "code",
   "execution_count": 62,
   "id": "f37c1b27",
   "metadata": {},
   "outputs": [
    {
     "name": "stdout",
     "output_type": "stream",
     "text": [
      "7\n"
     ]
    },
    {
     "data": {
      "text/plain": [
       "7"
      ]
     },
     "execution_count": 62,
     "metadata": {},
     "output_type": "execute_result"
    }
   ],
   "source": [
    "print(len(series2))   # размер\n",
    "series2.size"
   ]
  },
  {
   "cell_type": "code",
   "execution_count": 65,
   "id": "506be592",
   "metadata": {},
   "outputs": [
    {
     "data": {
      "text/plain": [
       "135.0"
      ]
     },
     "execution_count": 65,
     "metadata": {},
     "output_type": "execute_result"
    }
   ],
   "source": [
    "series2.iloc[-1] # значение по индексу (номер ряда)"
   ]
  },
  {
   "cell_type": "code",
   "execution_count": 67,
   "id": "9a467570",
   "metadata": {},
   "outputs": [
    {
     "data": {
      "text/plain": [
       "oxxxy    138.0\n",
       "ivan     132.0\n",
       "messi    135.0\n",
       "Name: iq, dtype: float64"
      ]
     },
     "execution_count": 67,
     "metadata": {},
     "output_type": "execute_result"
    }
   ],
   "source": [
    "series2.iloc[[2,1,-1]] # возвращение нескольких рядов"
   ]
  },
  {
   "cell_type": "code",
   "execution_count": 71,
   "id": "f968d2d0",
   "metadata": {},
   "outputs": [
    {
     "data": {
      "text/plain": [
       "72.0"
      ]
     },
     "execution_count": 71,
     "metadata": {},
     "output_type": "execute_result"
    }
   ],
   "source": [
    "series2.loc['slavik']  # значение по МЕТКЕ (названию индекса)"
   ]
  },
  {
   "cell_type": "code",
   "execution_count": 73,
   "id": "a205d23d",
   "metadata": {},
   "outputs": [
    {
     "data": {
      "text/plain": [
       "ivan    132.0\n",
       "alex    120.0\n",
       "Name: iq, dtype: float64"
      ]
     },
     "execution_count": 73,
     "metadata": {},
     "output_type": "execute_result"
    }
   ],
   "source": [
    "series2.loc[ ['ivan', 'alex'] ]"
   ]
  },
  {
   "cell_type": "code",
   "execution_count": 74,
   "id": "5406f2e8",
   "metadata": {},
   "outputs": [
    {
     "data": {
      "text/plain": [
       "1   -3\n",
       "1   -2\n",
       "2    0\n",
       "2    2\n",
       "3    2\n",
       "2    3\n",
       "dtype: int64"
      ]
     },
     "execution_count": 74,
     "metadata": {},
     "output_type": "execute_result"
    }
   ],
   "source": [
    "series_dubl = pd.Series([-3,-2,0,2,2,3], [1,1,2,2,3,2]) # метки дублируются\n",
    "series_dubl"
   ]
  },
  {
   "cell_type": "code",
   "execution_count": 75,
   "id": "cbe69b88",
   "metadata": {},
   "outputs": [
    {
     "data": {
      "text/plain": [
       "-3"
      ]
     },
     "execution_count": 75,
     "metadata": {},
     "output_type": "execute_result"
    }
   ],
   "source": [
    "series_dubl.iloc[0]   # по индексу "
   ]
  },
  {
   "cell_type": "code",
   "execution_count": 76,
   "id": "b09af980",
   "metadata": {},
   "outputs": [
    {
     "data": {
      "text/plain": [
       "2    0\n",
       "2    2\n",
       "2    3\n",
       "dtype: int64"
      ]
     },
     "execution_count": 76,
     "metadata": {},
     "output_type": "execute_result"
    }
   ],
   "source": [
    "series_dubl.loc[2]  # несколько значений по МЕТКАМ (они одинаковые)"
   ]
  },
  {
   "cell_type": "code",
   "execution_count": 77,
   "id": "589b83d6",
   "metadata": {},
   "outputs": [
    {
     "data": {
      "text/plain": [
       "1    0\n",
       "1    0\n",
       "2    0\n",
       "2    0\n",
       "3    2\n",
       "2    0\n",
       "dtype: int64"
      ]
     },
     "execution_count": 77,
     "metadata": {},
     "output_type": "execute_result"
    }
   ],
   "source": [
    "series_dubl.loc[[2,1]] = 0\n",
    "series_dubl"
   ]
  },
  {
   "cell_type": "markdown",
   "id": "d8573586",
   "metadata": {},
   "source": [
    "- сортировка "
   ]
  },
  {
   "cell_type": "code",
   "execution_count": 78,
   "id": "5ed49d33",
   "metadata": {},
   "outputs": [
    {
     "data": {
      "text/plain": [
       "name\n",
       "slavik    162\n",
       "ivan      184\n",
       "oxxxy     183\n",
       "kpss      187\n",
       "alex      179\n",
       "messi     169\n",
       "Name: high, dtype: int64"
      ]
     },
     "execution_count": 78,
     "metadata": {},
     "output_type": "execute_result"
    }
   ],
   "source": [
    "series3"
   ]
  },
  {
   "cell_type": "code",
   "execution_count": 79,
   "id": "3fcb6914",
   "metadata": {},
   "outputs": [
    {
     "data": {
      "text/plain": [
       "name\n",
       "slavik    162\n",
       "messi     169\n",
       "alex      179\n",
       "oxxxy     183\n",
       "ivan      184\n",
       "kpss      187\n",
       "Name: high, dtype: int64"
      ]
     },
     "execution_count": 79,
     "metadata": {},
     "output_type": "execute_result"
    }
   ],
   "source": [
    "series3.sort_values() # сортировка по значениям ascending = False сортирует по убыванию"
   ]
  },
  {
   "cell_type": "code",
   "execution_count": 80,
   "id": "da494627",
   "metadata": {},
   "outputs": [
    {
     "data": {
      "text/plain": [
       "name\n",
       "alex      179\n",
       "ivan      184\n",
       "kpss      187\n",
       "messi     169\n",
       "oxxxy     183\n",
       "slavik    162\n",
       "Name: high, dtype: int64"
      ]
     },
     "execution_count": 80,
     "metadata": {},
     "output_type": "execute_result"
    }
   ],
   "source": [
    "series3.sort_index() # сортировка по индексам (меткам) inplace = True делает сортировку на месте"
   ]
  },
  {
   "cell_type": "markdown",
   "id": "8ee5ab34",
   "metadata": {},
   "source": [
    "- метод apply()"
   ]
  },
  {
   "cell_type": "code",
   "execution_count": 81,
   "id": "e20bebe9",
   "metadata": {},
   "outputs": [],
   "source": [
    "def how_high(h):\n",
    "    if h>=180:\n",
    "        return 'Высокий'\n",
    "    return 'Низкий'"
   ]
  },
  {
   "cell_type": "code",
   "execution_count": 82,
   "id": "75c5c9a1",
   "metadata": {},
   "outputs": [
    {
     "data": {
      "text/plain": [
       "name\n",
       "slavik     Низкий\n",
       "ivan      Высокий\n",
       "oxxxy     Высокий\n",
       "kpss      Высокий\n",
       "alex       Низкий\n",
       "messi      Низкий\n",
       "Name: high, dtype: object"
      ]
     },
     "execution_count": 82,
     "metadata": {},
     "output_type": "execute_result"
    }
   ],
   "source": [
    "series3.apply(how_high)   # применяет кастомную функцию к серии"
   ]
  },
  {
   "cell_type": "code",
   "execution_count": 83,
   "id": "a78c4da7",
   "metadata": {},
   "outputs": [
    {
     "data": {
      "text/plain": [
       "slavik      0\n",
       "ivan        1\n",
       "oxxxy       1\n",
       "kpss        1\n",
       "alex        1\n",
       "einstein    0\n",
       "messi       1\n",
       "Name: iq, dtype: int64"
      ]
     },
     "execution_count": 83,
     "metadata": {},
     "output_type": "execute_result"
    }
   ],
   "source": [
    "series2.apply(lambda x: 1 if x>=100 else 0)   # используя лямбда-функцию"
   ]
  },
  {
   "cell_type": "markdown",
   "id": "e78e4729",
   "metadata": {},
   "source": [
    "- Преобразование данных"
   ]
  },
  {
   "cell_type": "code",
   "execution_count": 84,
   "id": "1e025a34",
   "metadata": {},
   "outputs": [
    {
     "name": "stdout",
     "output_type": "stream",
     "text": [
      "[5, 5, 5, 4, 4, 3, 4]\n",
      "\n",
      "{0: 5, 1: 5, 2: 5, 3: 4, 4: 4, 5: 3, 6: 4}\n",
      "\n",
      "0    5.0\n",
      "1    5.0\n",
      "2    5.0\n",
      "3    4.0\n",
      "4    4.0\n",
      "5    3.0\n",
      "6    4.0\n",
      "dtype: float64\n"
     ]
    }
   ],
   "source": [
    "s = pd.Series([5,5,5,4,4,3,4])\n",
    "\n",
    "# Преобразование Series в список\n",
    "s_list = s.tolist()\n",
    "print(s_list, end='\\n\\n')\n",
    "\n",
    "# Преобразование Series в словарь\n",
    "s_dict = s.to_dict()\n",
    "print(s_dict, end='\\n\\n')\n",
    "\n",
    "# Преобразование типов данных\n",
    "s = s.astype(float)\n",
    "print(s)"
   ]
  },
  {
   "cell_type": "markdown",
   "id": "5ee82d88",
   "metadata": {},
   "source": [
    "## DataFrame\n"
   ]
  },
  {
   "cell_type": "code",
   "execution_count": 106,
   "id": "13b2225d",
   "metadata": {},
   "outputs": [
    {
     "data": {
      "text/html": [
       "<div>\n",
       "<style scoped>\n",
       "    .dataframe tbody tr th:only-of-type {\n",
       "        vertical-align: middle;\n",
       "    }\n",
       "\n",
       "    .dataframe tbody tr th {\n",
       "        vertical-align: top;\n",
       "    }\n",
       "\n",
       "    .dataframe thead th {\n",
       "        text-align: right;\n",
       "    }\n",
       "</style>\n",
       "<table border=\"1\" class=\"dataframe\">\n",
       "  <thead>\n",
       "    <tr style=\"text-align: right;\">\n",
       "      <th></th>\n",
       "      <th>player</th>\n",
       "      <th>speed</th>\n",
       "      <th>dribling</th>\n",
       "      <th>shoot</th>\n",
       "    </tr>\n",
       "  </thead>\n",
       "  <tbody>\n",
       "    <tr>\n",
       "      <th>0</th>\n",
       "      <td>messi</td>\n",
       "      <td>7</td>\n",
       "      <td>9</td>\n",
       "      <td>9</td>\n",
       "    </tr>\n",
       "    <tr>\n",
       "      <th>1</th>\n",
       "      <td>ronaldo</td>\n",
       "      <td>7</td>\n",
       "      <td>7</td>\n",
       "      <td>8</td>\n",
       "    </tr>\n",
       "    <tr>\n",
       "      <th>2</th>\n",
       "      <td>neymar</td>\n",
       "      <td>8</td>\n",
       "      <td>8</td>\n",
       "      <td>6</td>\n",
       "    </tr>\n",
       "  </tbody>\n",
       "</table>\n",
       "</div>"
      ],
      "text/plain": [
       "    player  speed  dribling  shoot\n",
       "0    messi      7         9      9\n",
       "1  ronaldo      7         7      8\n",
       "2   neymar      8         8      6"
      ]
     },
     "execution_count": 106,
     "metadata": {},
     "output_type": "execute_result"
    }
   ],
   "source": [
    "data1 = pd.DataFrame({'player':['messi','ronaldo','neymar'], 'speed':[7,7,8], 'dribling':[9,7,8],'shoot':[9,8,6]})\n",
    "data1  # создание DataFrame на основе словаря списков (или массивов numpy)"
   ]
  },
  {
   "cell_type": "code",
   "execution_count": 107,
   "id": "6cc5a11e",
   "metadata": {},
   "outputs": [
    {
     "data": {
      "text/html": [
       "<div>\n",
       "<style scoped>\n",
       "    .dataframe tbody tr th:only-of-type {\n",
       "        vertical-align: middle;\n",
       "    }\n",
       "\n",
       "    .dataframe tbody tr th {\n",
       "        vertical-align: top;\n",
       "    }\n",
       "\n",
       "    .dataframe thead th {\n",
       "        text-align: right;\n",
       "    }\n",
       "</style>\n",
       "<table border=\"1\" class=\"dataframe\">\n",
       "  <thead>\n",
       "    <tr style=\"text-align: right;\">\n",
       "      <th></th>\n",
       "      <th>player</th>\n",
       "      <th>speed</th>\n",
       "      <th>dribling</th>\n",
       "      <th>shoot</th>\n",
       "    </tr>\n",
       "  </thead>\n",
       "  <tbody>\n",
       "    <tr>\n",
       "      <th>0</th>\n",
       "      <td>messi</td>\n",
       "      <td>7</td>\n",
       "      <td>9</td>\n",
       "      <td>9</td>\n",
       "    </tr>\n",
       "    <tr>\n",
       "      <th>1</th>\n",
       "      <td>ronaldo</td>\n",
       "      <td>7</td>\n",
       "      <td>7</td>\n",
       "      <td>8</td>\n",
       "    </tr>\n",
       "  </tbody>\n",
       "</table>\n",
       "</div>"
      ],
      "text/plain": [
       "    player  speed  dribling  shoot\n",
       "0    messi      7         9      9\n",
       "1  ronaldo      7         7      8"
      ]
     },
     "execution_count": 107,
     "metadata": {},
     "output_type": "execute_result"
    }
   ],
   "source": [
    "data1.head(2)   # первые n элементов"
   ]
  },
  {
   "cell_type": "code",
   "execution_count": 108,
   "id": "3756ac8c",
   "metadata": {},
   "outputs": [
    {
     "data": {
      "text/html": [
       "<div>\n",
       "<style scoped>\n",
       "    .dataframe tbody tr th:only-of-type {\n",
       "        vertical-align: middle;\n",
       "    }\n",
       "\n",
       "    .dataframe tbody tr th {\n",
       "        vertical-align: top;\n",
       "    }\n",
       "\n",
       "    .dataframe thead th {\n",
       "        text-align: right;\n",
       "    }\n",
       "</style>\n",
       "<table border=\"1\" class=\"dataframe\">\n",
       "  <thead>\n",
       "    <tr style=\"text-align: right;\">\n",
       "      <th></th>\n",
       "      <th>player</th>\n",
       "      <th>shoot</th>\n",
       "      <th>dribling</th>\n",
       "      <th>speed</th>\n",
       "      <th>rating</th>\n",
       "    </tr>\n",
       "  </thead>\n",
       "  <tbody>\n",
       "    <tr>\n",
       "      <th>0</th>\n",
       "      <td>messi</td>\n",
       "      <td>9</td>\n",
       "      <td>9</td>\n",
       "      <td>7</td>\n",
       "      <td>NaN</td>\n",
       "    </tr>\n",
       "    <tr>\n",
       "      <th>1</th>\n",
       "      <td>ronaldo</td>\n",
       "      <td>8</td>\n",
       "      <td>7</td>\n",
       "      <td>7</td>\n",
       "      <td>NaN</td>\n",
       "    </tr>\n",
       "    <tr>\n",
       "      <th>2</th>\n",
       "      <td>neymar</td>\n",
       "      <td>6</td>\n",
       "      <td>8</td>\n",
       "      <td>8</td>\n",
       "      <td>NaN</td>\n",
       "    </tr>\n",
       "  </tbody>\n",
       "</table>\n",
       "</div>"
      ],
      "text/plain": [
       "    player  shoot  dribling  speed  rating\n",
       "0    messi      9         9      7     NaN\n",
       "1  ronaldo      8         7      7     NaN\n",
       "2   neymar      6         8      8     NaN"
      ]
     },
     "execution_count": 108,
     "metadata": {},
     "output_type": "execute_result"
    }
   ],
   "source": [
    "pd.DataFrame(data1, columns=['player','shoot','dribling','speed','rating'])  # смена порядка колонок"
   ]
  },
  {
   "cell_type": "code",
   "execution_count": 109,
   "id": "156b80d6",
   "metadata": {},
   "outputs": [
    {
     "data": {
      "text/plain": [
       "Index(['player', 'speed', 'dribling', 'shoot'], dtype='object')"
      ]
     },
     "execution_count": 109,
     "metadata": {},
     "output_type": "execute_result"
    }
   ],
   "source": [
    "data1.columns   # список названий колонок"
   ]
  },
  {
   "cell_type": "code",
   "execution_count": 110,
   "id": "030429a8",
   "metadata": {},
   "outputs": [
    {
     "data": {
      "text/html": [
       "<div>\n",
       "<style scoped>\n",
       "    .dataframe tbody tr th:only-of-type {\n",
       "        vertical-align: middle;\n",
       "    }\n",
       "\n",
       "    .dataframe tbody tr th {\n",
       "        vertical-align: top;\n",
       "    }\n",
       "\n",
       "    .dataframe thead th {\n",
       "        text-align: right;\n",
       "    }\n",
       "</style>\n",
       "<table border=\"1\" class=\"dataframe\">\n",
       "  <thead>\n",
       "    <tr style=\"text-align: right;\">\n",
       "      <th></th>\n",
       "      <th>player</th>\n",
       "      <th>shoot</th>\n",
       "    </tr>\n",
       "  </thead>\n",
       "  <tbody>\n",
       "    <tr>\n",
       "      <th>0</th>\n",
       "      <td>messi</td>\n",
       "      <td>9</td>\n",
       "    </tr>\n",
       "    <tr>\n",
       "      <th>1</th>\n",
       "      <td>ronaldo</td>\n",
       "      <td>8</td>\n",
       "    </tr>\n",
       "    <tr>\n",
       "      <th>2</th>\n",
       "      <td>neymar</td>\n",
       "      <td>6</td>\n",
       "    </tr>\n",
       "  </tbody>\n",
       "</table>\n",
       "</div>"
      ],
      "text/plain": [
       "    player  shoot\n",
       "0    messi      9\n",
       "1  ronaldo      8\n",
       "2   neymar      6"
      ]
     },
     "execution_count": 110,
     "metadata": {},
     "output_type": "execute_result"
    }
   ],
   "source": [
    "data1[['player', 'shoot']]   # взять определенное количество колонок"
   ]
  },
  {
   "cell_type": "code",
   "execution_count": 111,
   "id": "b82ecf8c",
   "metadata": {},
   "outputs": [
    {
     "data": {
      "text/plain": [
       "0      messi\n",
       "1    ronaldo\n",
       "2     neymar\n",
       "Name: player, dtype: object"
      ]
     },
     "execution_count": 111,
     "metadata": {},
     "output_type": "execute_result"
    }
   ],
   "source": [
    "data1['player']   # series - одна колонка из датафрейма"
   ]
  },
  {
   "cell_type": "code",
   "execution_count": 112,
   "id": "35c383f1",
   "metadata": {},
   "outputs": [
    {
     "data": {
      "text/plain": [
       "0      messi\n",
       "1    ronaldo\n",
       "2     neymar\n",
       "Name: player, dtype: object"
      ]
     },
     "execution_count": 112,
     "metadata": {},
     "output_type": "execute_result"
    }
   ],
   "source": [
    "data1.player   # то же самое, что и data1['player']"
   ]
  },
  {
   "cell_type": "code",
   "execution_count": 113,
   "id": "356275c4",
   "metadata": {},
   "outputs": [
    {
     "name": "stdout",
     "output_type": "stream",
     "text": [
      "player      messi\n",
      "speed           7\n",
      "dribling        9\n",
      "shoot           9\n",
      "Name: 0, dtype: object\n"
     ]
    },
    {
     "data": {
      "text/plain": [
       "player      messi\n",
       "speed           7\n",
       "dribling        9\n",
       "shoot           9\n",
       "Name: 0, dtype: object"
      ]
     },
     "execution_count": 113,
     "metadata": {},
     "output_type": "execute_result"
    }
   ],
   "source": [
    "print(data1.iloc[0])  # series столбца\n",
    "data1.loc[0] "
   ]
  },
  {
   "cell_type": "code",
   "execution_count": 114,
   "id": "7b8a6687",
   "metadata": {},
   "outputs": [
    {
     "data": {
      "text/html": [
       "<div>\n",
       "<style scoped>\n",
       "    .dataframe tbody tr th:only-of-type {\n",
       "        vertical-align: middle;\n",
       "    }\n",
       "\n",
       "    .dataframe tbody tr th {\n",
       "        vertical-align: top;\n",
       "    }\n",
       "\n",
       "    .dataframe thead th {\n",
       "        text-align: right;\n",
       "    }\n",
       "</style>\n",
       "<table border=\"1\" class=\"dataframe\">\n",
       "  <thead>\n",
       "    <tr style=\"text-align: right;\">\n",
       "      <th></th>\n",
       "      <th>player</th>\n",
       "      <th>speed</th>\n",
       "      <th>dribling</th>\n",
       "      <th>shoot</th>\n",
       "    </tr>\n",
       "  </thead>\n",
       "  <tbody>\n",
       "    <tr>\n",
       "      <th>0</th>\n",
       "      <td>messi</td>\n",
       "      <td>7</td>\n",
       "      <td>9</td>\n",
       "      <td>9</td>\n",
       "    </tr>\n",
       "    <tr>\n",
       "      <th>2</th>\n",
       "      <td>neymar</td>\n",
       "      <td>8</td>\n",
       "      <td>8</td>\n",
       "      <td>6</td>\n",
       "    </tr>\n",
       "  </tbody>\n",
       "</table>\n",
       "</div>"
      ],
      "text/plain": [
       "   player  speed  dribling  shoot\n",
       "0   messi      7         9      9\n",
       "2  neymar      8         8      6"
      ]
     },
     "execution_count": 114,
     "metadata": {},
     "output_type": "execute_result"
    }
   ],
   "source": [
    "data1.iloc[[0,2]]   # dataframe по индексам (список индексов!)"
   ]
  },
  {
   "cell_type": "code",
   "execution_count": 115,
   "id": "d35f616e",
   "metadata": {},
   "outputs": [
    {
     "data": {
      "text/html": [
       "<div>\n",
       "<style scoped>\n",
       "    .dataframe tbody tr th:only-of-type {\n",
       "        vertical-align: middle;\n",
       "    }\n",
       "\n",
       "    .dataframe tbody tr th {\n",
       "        vertical-align: top;\n",
       "    }\n",
       "\n",
       "    .dataframe thead th {\n",
       "        text-align: right;\n",
       "    }\n",
       "</style>\n",
       "<table border=\"1\" class=\"dataframe\">\n",
       "  <thead>\n",
       "    <tr style=\"text-align: right;\">\n",
       "      <th></th>\n",
       "      <th>player</th>\n",
       "      <th>speed</th>\n",
       "      <th>dribling</th>\n",
       "      <th>shoot</th>\n",
       "      <th>position</th>\n",
       "    </tr>\n",
       "  </thead>\n",
       "  <tbody>\n",
       "    <tr>\n",
       "      <th>0</th>\n",
       "      <td>messi</td>\n",
       "      <td>7</td>\n",
       "      <td>9</td>\n",
       "      <td>9</td>\n",
       "      <td>нап</td>\n",
       "    </tr>\n",
       "    <tr>\n",
       "      <th>1</th>\n",
       "      <td>ronaldo</td>\n",
       "      <td>7</td>\n",
       "      <td>7</td>\n",
       "      <td>8</td>\n",
       "      <td>нап</td>\n",
       "    </tr>\n",
       "    <tr>\n",
       "      <th>2</th>\n",
       "      <td>neymar</td>\n",
       "      <td>8</td>\n",
       "      <td>8</td>\n",
       "      <td>6</td>\n",
       "      <td>нап</td>\n",
       "    </tr>\n",
       "  </tbody>\n",
       "</table>\n",
       "</div>"
      ],
      "text/plain": [
       "    player  speed  dribling  shoot position\n",
       "0    messi      7         9      9      нап\n",
       "1  ronaldo      7         7      8      нап\n",
       "2   neymar      8         8      6      нап"
      ]
     },
     "execution_count": 115,
     "metadata": {},
     "output_type": "execute_result"
    }
   ],
   "source": [
    "data1['position'] = 'нап'    # создание нового столбца \n",
    "data1"
   ]
  },
  {
   "cell_type": "code",
   "execution_count": 116,
   "id": "dc8ad06b",
   "metadata": {},
   "outputs": [
    {
     "name": "stdout",
     "output_type": "stream",
     "text": [
      "name\n",
      "slavik    14\n",
      "ivan      18\n",
      "oxxxy     20\n",
      "kpss      33\n",
      "alex      38\n",
      "Name: age, dtype: int64\n"
     ]
    },
    {
     "data": {
      "text/html": [
       "<div>\n",
       "<style scoped>\n",
       "    .dataframe tbody tr th:only-of-type {\n",
       "        vertical-align: middle;\n",
       "    }\n",
       "\n",
       "    .dataframe tbody tr th {\n",
       "        vertical-align: top;\n",
       "    }\n",
       "\n",
       "    .dataframe thead th {\n",
       "        text-align: right;\n",
       "    }\n",
       "</style>\n",
       "<table border=\"1\" class=\"dataframe\">\n",
       "  <thead>\n",
       "    <tr style=\"text-align: right;\">\n",
       "      <th></th>\n",
       "      <th>player</th>\n",
       "      <th>speed</th>\n",
       "      <th>dribling</th>\n",
       "      <th>shoot</th>\n",
       "      <th>position</th>\n",
       "      <th>name</th>\n",
       "    </tr>\n",
       "  </thead>\n",
       "  <tbody>\n",
       "    <tr>\n",
       "      <th>0</th>\n",
       "      <td>messi</td>\n",
       "      <td>7</td>\n",
       "      <td>9</td>\n",
       "      <td>9</td>\n",
       "      <td>нап</td>\n",
       "      <td>NaN</td>\n",
       "    </tr>\n",
       "    <tr>\n",
       "      <th>1</th>\n",
       "      <td>ronaldo</td>\n",
       "      <td>7</td>\n",
       "      <td>7</td>\n",
       "      <td>8</td>\n",
       "      <td>нап</td>\n",
       "      <td>NaN</td>\n",
       "    </tr>\n",
       "    <tr>\n",
       "      <th>2</th>\n",
       "      <td>neymar</td>\n",
       "      <td>8</td>\n",
       "      <td>8</td>\n",
       "      <td>6</td>\n",
       "      <td>нап</td>\n",
       "      <td>NaN</td>\n",
       "    </tr>\n",
       "  </tbody>\n",
       "</table>\n",
       "</div>"
      ],
      "text/plain": [
       "    player  speed  dribling  shoot position  name\n",
       "0    messi      7         9      9      нап   NaN\n",
       "1  ronaldo      7         7      8      нап   NaN\n",
       "2   neymar      8         8      6      нап   NaN"
      ]
     },
     "execution_count": 116,
     "metadata": {},
     "output_type": "execute_result"
    }
   ],
   "source": [
    "print(series1)\n",
    "\n",
    "data1['name'] = series1 \n",
    "data1"
   ]
  },
  {
   "cell_type": "code",
   "execution_count": 117,
   "id": "2b8ecc5a",
   "metadata": {},
   "outputs": [
    {
     "data": {
      "text/html": [
       "<div>\n",
       "<style scoped>\n",
       "    .dataframe tbody tr th:only-of-type {\n",
       "        vertical-align: middle;\n",
       "    }\n",
       "\n",
       "    .dataframe tbody tr th {\n",
       "        vertical-align: top;\n",
       "    }\n",
       "\n",
       "    .dataframe thead th {\n",
       "        text-align: right;\n",
       "    }\n",
       "</style>\n",
       "<table border=\"1\" class=\"dataframe\">\n",
       "  <thead>\n",
       "    <tr style=\"text-align: right;\">\n",
       "      <th></th>\n",
       "      <th>player</th>\n",
       "      <th>speed</th>\n",
       "      <th>dribling</th>\n",
       "      <th>shoot</th>\n",
       "      <th>position</th>\n",
       "    </tr>\n",
       "  </thead>\n",
       "  <tbody>\n",
       "    <tr>\n",
       "      <th>0</th>\n",
       "      <td>messi</td>\n",
       "      <td>7</td>\n",
       "      <td>9</td>\n",
       "      <td>9</td>\n",
       "      <td>нап</td>\n",
       "    </tr>\n",
       "    <tr>\n",
       "      <th>1</th>\n",
       "      <td>ronaldo</td>\n",
       "      <td>7</td>\n",
       "      <td>7</td>\n",
       "      <td>8</td>\n",
       "      <td>нап</td>\n",
       "    </tr>\n",
       "    <tr>\n",
       "      <th>2</th>\n",
       "      <td>neymar</td>\n",
       "      <td>8</td>\n",
       "      <td>8</td>\n",
       "      <td>6</td>\n",
       "      <td>нап</td>\n",
       "    </tr>\n",
       "  </tbody>\n",
       "</table>\n",
       "</div>"
      ],
      "text/plain": [
       "    player  speed  dribling  shoot position\n",
       "0    messi      7         9      9      нап\n",
       "1  ronaldo      7         7      8      нап\n",
       "2   neymar      8         8      6      нап"
      ]
     },
     "execution_count": 117,
     "metadata": {},
     "output_type": "execute_result"
    }
   ],
   "source": [
    "del data1['name']\n",
    "data1"
   ]
  },
  {
   "cell_type": "code",
   "execution_count": 118,
   "id": "8edee783",
   "metadata": {},
   "outputs": [
    {
     "data": {
      "text/html": [
       "<div>\n",
       "<style scoped>\n",
       "    .dataframe tbody tr th:only-of-type {\n",
       "        vertical-align: middle;\n",
       "    }\n",
       "\n",
       "    .dataframe tbody tr th {\n",
       "        vertical-align: top;\n",
       "    }\n",
       "\n",
       "    .dataframe thead th {\n",
       "        text-align: right;\n",
       "    }\n",
       "</style>\n",
       "<table border=\"1\" class=\"dataframe\">\n",
       "  <thead>\n",
       "    <tr style=\"text-align: right;\">\n",
       "      <th></th>\n",
       "      <th>player</th>\n",
       "      <th>speed</th>\n",
       "      <th>dribling</th>\n",
       "      <th>shoot</th>\n",
       "      <th>position</th>\n",
       "    </tr>\n",
       "  </thead>\n",
       "  <tbody>\n",
       "    <tr>\n",
       "      <th>m</th>\n",
       "      <td>messi</td>\n",
       "      <td>7</td>\n",
       "      <td>9</td>\n",
       "      <td>9</td>\n",
       "      <td>нап</td>\n",
       "    </tr>\n",
       "    <tr>\n",
       "      <th>r</th>\n",
       "      <td>ronaldo</td>\n",
       "      <td>7</td>\n",
       "      <td>7</td>\n",
       "      <td>8</td>\n",
       "      <td>нап</td>\n",
       "    </tr>\n",
       "    <tr>\n",
       "      <th>n</th>\n",
       "      <td>neymar</td>\n",
       "      <td>8</td>\n",
       "      <td>8</td>\n",
       "      <td>6</td>\n",
       "      <td>нап</td>\n",
       "    </tr>\n",
       "  </tbody>\n",
       "</table>\n",
       "</div>"
      ],
      "text/plain": [
       "    player  speed  dribling  shoot position\n",
       "m    messi      7         9      9      нап\n",
       "r  ronaldo      7         7      8      нап\n",
       "n   neymar      8         8      6      нап"
      ]
     },
     "execution_count": 118,
     "metadata": {},
     "output_type": "execute_result"
    }
   ],
   "source": [
    "data1.index = ['m','r','n']  # название строк\n",
    "data1"
   ]
  },
  {
   "cell_type": "code",
   "execution_count": 119,
   "id": "f0c4ea90",
   "metadata": {},
   "outputs": [
    {
     "data": {
      "text/html": [
       "<div>\n",
       "<style scoped>\n",
       "    .dataframe tbody tr th:only-of-type {\n",
       "        vertical-align: middle;\n",
       "    }\n",
       "\n",
       "    .dataframe tbody tr th {\n",
       "        vertical-align: top;\n",
       "    }\n",
       "\n",
       "    .dataframe thead th {\n",
       "        text-align: right;\n",
       "    }\n",
       "</style>\n",
       "<table border=\"1\" class=\"dataframe\">\n",
       "  <thead>\n",
       "    <tr style=\"text-align: right;\">\n",
       "      <th></th>\n",
       "      <th>m</th>\n",
       "      <th>r</th>\n",
       "      <th>n</th>\n",
       "    </tr>\n",
       "  </thead>\n",
       "  <tbody>\n",
       "    <tr>\n",
       "      <th>player</th>\n",
       "      <td>messi</td>\n",
       "      <td>ronaldo</td>\n",
       "      <td>neymar</td>\n",
       "    </tr>\n",
       "    <tr>\n",
       "      <th>speed</th>\n",
       "      <td>7</td>\n",
       "      <td>7</td>\n",
       "      <td>8</td>\n",
       "    </tr>\n",
       "    <tr>\n",
       "      <th>dribling</th>\n",
       "      <td>9</td>\n",
       "      <td>7</td>\n",
       "      <td>8</td>\n",
       "    </tr>\n",
       "    <tr>\n",
       "      <th>shoot</th>\n",
       "      <td>9</td>\n",
       "      <td>8</td>\n",
       "      <td>6</td>\n",
       "    </tr>\n",
       "    <tr>\n",
       "      <th>position</th>\n",
       "      <td>нап</td>\n",
       "      <td>нап</td>\n",
       "      <td>нап</td>\n",
       "    </tr>\n",
       "  </tbody>\n",
       "</table>\n",
       "</div>"
      ],
      "text/plain": [
       "              m        r       n\n",
       "player    messi  ronaldo  neymar\n",
       "speed         7        7       8\n",
       "dribling      9        7       8\n",
       "shoot         9        8       6\n",
       "position    нап      нап     нап"
      ]
     },
     "execution_count": 119,
     "metadata": {},
     "output_type": "execute_result"
    }
   ],
   "source": [
    "data1.T   # транспонирование датафрейма"
   ]
  },
  {
   "cell_type": "code",
   "execution_count": 120,
   "id": "11b025bf",
   "metadata": {},
   "outputs": [
    {
     "data": {
      "text/html": [
       "<div>\n",
       "<style scoped>\n",
       "    .dataframe tbody tr th:only-of-type {\n",
       "        vertical-align: middle;\n",
       "    }\n",
       "\n",
       "    .dataframe tbody tr th {\n",
       "        vertical-align: top;\n",
       "    }\n",
       "\n",
       "    .dataframe thead th {\n",
       "        text-align: right;\n",
       "    }\n",
       "</style>\n",
       "<table border=\"1\" class=\"dataframe\">\n",
       "  <thead>\n",
       "    <tr style=\"text-align: right;\">\n",
       "      <th></th>\n",
       "      <th>player</th>\n",
       "      <th>speed</th>\n",
       "      <th>dribling</th>\n",
       "      <th>shoot</th>\n",
       "      <th>position</th>\n",
       "    </tr>\n",
       "  </thead>\n",
       "  <tbody>\n",
       "    <tr>\n",
       "      <th>m</th>\n",
       "      <td>messi</td>\n",
       "      <td>7</td>\n",
       "      <td>9</td>\n",
       "      <td>9</td>\n",
       "      <td>нап</td>\n",
       "    </tr>\n",
       "    <tr>\n",
       "      <th>r</th>\n",
       "      <td>ronaldo</td>\n",
       "      <td>7</td>\n",
       "      <td>7</td>\n",
       "      <td>8</td>\n",
       "      <td>нап</td>\n",
       "    </tr>\n",
       "    <tr>\n",
       "      <th>n</th>\n",
       "      <td>neymar</td>\n",
       "      <td>8</td>\n",
       "      <td>8</td>\n",
       "      <td>6</td>\n",
       "      <td>нап</td>\n",
       "    </tr>\n",
       "  </tbody>\n",
       "</table>\n",
       "</div>"
      ],
      "text/plain": [
       "    player  speed  dribling  shoot position\n",
       "m    messi      7         9      9      нап\n",
       "r  ronaldo      7         7      8      нап\n",
       "n   neymar      8         8      6      нап"
      ]
     },
     "execution_count": 120,
     "metadata": {},
     "output_type": "execute_result"
    }
   ],
   "source": [
    "data1"
   ]
  },
  {
   "cell_type": "code",
   "execution_count": 121,
   "id": "ab63cd81",
   "metadata": {
    "scrolled": true
   },
   "outputs": [
    {
     "data": {
      "text/html": [
       "<div>\n",
       "<style scoped>\n",
       "    .dataframe tbody tr th:only-of-type {\n",
       "        vertical-align: middle;\n",
       "    }\n",
       "\n",
       "    .dataframe tbody tr th {\n",
       "        vertical-align: top;\n",
       "    }\n",
       "\n",
       "    .dataframe thead th {\n",
       "        text-align: right;\n",
       "    }\n",
       "</style>\n",
       "<table border=\"1\" class=\"dataframe\">\n",
       "  <thead>\n",
       "    <tr style=\"text-align: right;\">\n",
       "      <th>Характеристики:</th>\n",
       "      <th>speed</th>\n",
       "      <th>dribling</th>\n",
       "      <th>shoot</th>\n",
       "      <th>position</th>\n",
       "    </tr>\n",
       "    <tr>\n",
       "      <th>player</th>\n",
       "      <th></th>\n",
       "      <th></th>\n",
       "      <th></th>\n",
       "      <th></th>\n",
       "    </tr>\n",
       "  </thead>\n",
       "  <tbody>\n",
       "    <tr>\n",
       "      <th>messi</th>\n",
       "      <td>7</td>\n",
       "      <td>9</td>\n",
       "      <td>9</td>\n",
       "      <td>нап</td>\n",
       "    </tr>\n",
       "    <tr>\n",
       "      <th>ronaldo</th>\n",
       "      <td>7</td>\n",
       "      <td>7</td>\n",
       "      <td>8</td>\n",
       "      <td>нап</td>\n",
       "    </tr>\n",
       "    <tr>\n",
       "      <th>neymar</th>\n",
       "      <td>8</td>\n",
       "      <td>8</td>\n",
       "      <td>6</td>\n",
       "      <td>нап</td>\n",
       "    </tr>\n",
       "  </tbody>\n",
       "</table>\n",
       "</div>"
      ],
      "text/plain": [
       "Характеристики:  speed  dribling  shoot position\n",
       "player                                          \n",
       "messi                7         9      9      нап\n",
       "ronaldo              7         7      8      нап\n",
       "neymar               8         8      6      нап"
      ]
     },
     "execution_count": 121,
     "metadata": {},
     "output_type": "execute_result"
    }
   ],
   "source": [
    "# название фрейма и редактирование\n",
    "data1.index.name = 'DATAFRAME_FOOTBALL'\n",
    "data1.columns.name = 'Характеристики:'\n",
    "data1 = data1.set_index('player')\n",
    "data1"
   ]
  },
  {
   "cell_type": "code",
   "execution_count": 122,
   "id": "83a1eb9e",
   "metadata": {},
   "outputs": [],
   "source": [
    "data2 = pd.DataFrame(series1)\n",
    "data2['iq'] = series2\n",
    "data2['high']=series3"
   ]
  },
  {
   "cell_type": "code",
   "execution_count": 123,
   "id": "639348f5",
   "metadata": {},
   "outputs": [
    {
     "data": {
      "text/html": [
       "<div>\n",
       "<style scoped>\n",
       "    .dataframe tbody tr th:only-of-type {\n",
       "        vertical-align: middle;\n",
       "    }\n",
       "\n",
       "    .dataframe tbody tr th {\n",
       "        vertical-align: top;\n",
       "    }\n",
       "\n",
       "    .dataframe thead th {\n",
       "        text-align: right;\n",
       "    }\n",
       "</style>\n",
       "<table border=\"1\" class=\"dataframe\">\n",
       "  <thead>\n",
       "    <tr style=\"text-align: right;\">\n",
       "      <th></th>\n",
       "      <th>age</th>\n",
       "      <th>iq</th>\n",
       "      <th>high</th>\n",
       "    </tr>\n",
       "    <tr>\n",
       "      <th>name</th>\n",
       "      <th></th>\n",
       "      <th></th>\n",
       "      <th></th>\n",
       "    </tr>\n",
       "  </thead>\n",
       "  <tbody>\n",
       "    <tr>\n",
       "      <th>slavik</th>\n",
       "      <td>14</td>\n",
       "      <td>72.0</td>\n",
       "      <td>162</td>\n",
       "    </tr>\n",
       "    <tr>\n",
       "      <th>ivan</th>\n",
       "      <td>18</td>\n",
       "      <td>132.0</td>\n",
       "      <td>184</td>\n",
       "    </tr>\n",
       "    <tr>\n",
       "      <th>oxxxy</th>\n",
       "      <td>20</td>\n",
       "      <td>138.0</td>\n",
       "      <td>183</td>\n",
       "    </tr>\n",
       "    <tr>\n",
       "      <th>kpss</th>\n",
       "      <td>33</td>\n",
       "      <td>140.0</td>\n",
       "      <td>187</td>\n",
       "    </tr>\n",
       "    <tr>\n",
       "      <th>alex</th>\n",
       "      <td>38</td>\n",
       "      <td>120.0</td>\n",
       "      <td>179</td>\n",
       "    </tr>\n",
       "  </tbody>\n",
       "</table>\n",
       "</div>"
      ],
      "text/plain": [
       "        age     iq  high\n",
       "name                    \n",
       "slavik   14   72.0   162\n",
       "ivan     18  132.0   184\n",
       "oxxxy    20  138.0   183\n",
       "kpss     33  140.0   187\n",
       "alex     38  120.0   179"
      ]
     },
     "execution_count": 123,
     "metadata": {},
     "output_type": "execute_result"
    }
   ],
   "source": [
    "data2"
   ]
  },
  {
   "cell_type": "code",
   "execution_count": 124,
   "id": "4e0ae296",
   "metadata": {},
   "outputs": [
    {
     "data": {
      "text/plain": [
       "Index(['slavik', 'ivan', 'oxxxy', 'kpss', 'alex'], dtype='object', name='name')"
      ]
     },
     "execution_count": 124,
     "metadata": {},
     "output_type": "execute_result"
    }
   ],
   "source": [
    "data2.index  # список всех индексов data2"
   ]
  },
  {
   "cell_type": "code",
   "execution_count": 125,
   "id": "27a3e063",
   "metadata": {},
   "outputs": [
    {
     "data": {
      "text/plain": [
       "True"
      ]
     },
     "execution_count": 125,
     "metadata": {},
     "output_type": "execute_result"
    }
   ],
   "source": [
    "'alex' in data2.index   # проверка на вхождение индекса в датафрейм"
   ]
  },
  {
   "cell_type": "code",
   "execution_count": 126,
   "id": "c87c68a6",
   "metadata": {},
   "outputs": [
    {
     "data": {
      "text/plain": [
       "True"
      ]
     },
     "execution_count": 126,
     "metadata": {},
     "output_type": "execute_result"
    }
   ],
   "source": [
    "'iq' in data2.columns  # проверка на вхождение названия столбца в датафрейм"
   ]
  },
  {
   "cell_type": "code",
   "execution_count": null,
   "id": "9825dbe9",
   "metadata": {},
   "outputs": [],
   "source": [
    "index_list = data2.index.delete([2,3])   # удаление инлекса i\n",
    "index_list   # это объект Index, имеет много разных свойств"
   ]
  },
  {
   "cell_type": "code",
   "execution_count": null,
   "id": "564cdb43",
   "metadata": {},
   "outputs": [],
   "source": []
  }
 ],
 "metadata": {
  "kernelspec": {
   "display_name": "Python 3 (ipykernel)",
   "language": "python",
   "name": "python3"
  },
  "language_info": {
   "codemirror_mode": {
    "name": "ipython",
    "version": 3
   },
   "file_extension": ".py",
   "mimetype": "text/x-python",
   "name": "python",
   "nbconvert_exporter": "python",
   "pygments_lexer": "ipython3",
   "version": "3.9.18"
  }
 },
 "nbformat": 4,
 "nbformat_minor": 5
}
